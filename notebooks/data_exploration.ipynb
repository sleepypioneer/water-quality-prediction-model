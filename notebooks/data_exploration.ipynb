{
 "cells": [
  {
   "cell_type": "code",
   "execution_count": 1,
   "id": "e3ee7056",
   "metadata": {},
   "outputs": [],
   "source": [
    "import pandas as pd\n",
    "import numpy as np\n",
    "\n",
    "pd.options.display.max_colwidth = 999\n",
    "pd.options.display.max_rows = 999\n",
    "\n",
    "from sklearn.ensemble import RandomForestClassifier\n",
    "from sklearn.linear_model import LogisticRegression\n",
    "from sklearn.model_selection import train_test_split\n",
    "import matplotlib.pyplot as plt\n",
    "import seaborn as sns\n",
    "\n",
    "from sklearn.feature_extraction import DictVectorizer\n",
    "\n",
    "from sklearn.metrics import roc_auc_score\n",
    "from sklearn.metrics import mutual_info_score\n",
    "\n",
    "import warnings\n",
    "warnings.filterwarnings('ignore')\n",
    "\n",
    "%matplotlib inline"
   ]
  },
  {
   "cell_type": "code",
   "execution_count": 2,
   "id": "f7b5174a",
   "metadata": {
    "scrolled": true
   },
   "outputs": [],
   "source": [
    "water_data = pd.read_csv('data/water_potability.csv')"
   ]
  },
  {
   "cell_type": "code",
   "execution_count": 3,
   "id": "55e5aac0",
   "metadata": {},
   "outputs": [],
   "source": [
    "water_data.columns = water_data.columns.str.lower().str.replace(' ', '_')"
   ]
  },
  {
   "cell_type": "code",
   "execution_count": 4,
   "id": "156275b2",
   "metadata": {},
   "outputs": [
    {
     "data": {
      "text/html": [
       "<div>\n",
       "<style scoped>\n",
       "    .dataframe tbody tr th:only-of-type {\n",
       "        vertical-align: middle;\n",
       "    }\n",
       "\n",
       "    .dataframe tbody tr th {\n",
       "        vertical-align: top;\n",
       "    }\n",
       "\n",
       "    .dataframe thead th {\n",
       "        text-align: right;\n",
       "    }\n",
       "</style>\n",
       "<table border=\"1\" class=\"dataframe\">\n",
       "  <thead>\n",
       "    <tr style=\"text-align: right;\">\n",
       "      <th></th>\n",
       "      <th>ph</th>\n",
       "      <th>hardness</th>\n",
       "      <th>solids</th>\n",
       "      <th>chloramines</th>\n",
       "      <th>sulfate</th>\n",
       "      <th>conductivity</th>\n",
       "      <th>organic_carbon</th>\n",
       "      <th>trihalomethanes</th>\n",
       "      <th>turbidity</th>\n",
       "      <th>potability</th>\n",
       "    </tr>\n",
       "  </thead>\n",
       "  <tbody>\n",
       "    <tr>\n",
       "      <th>0</th>\n",
       "      <td>NaN</td>\n",
       "      <td>204.890455</td>\n",
       "      <td>20791.318981</td>\n",
       "      <td>7.300212</td>\n",
       "      <td>368.516441</td>\n",
       "      <td>564.308654</td>\n",
       "      <td>10.379783</td>\n",
       "      <td>86.990970</td>\n",
       "      <td>2.963135</td>\n",
       "      <td>0</td>\n",
       "    </tr>\n",
       "    <tr>\n",
       "      <th>1</th>\n",
       "      <td>3.716080</td>\n",
       "      <td>129.422921</td>\n",
       "      <td>18630.057858</td>\n",
       "      <td>6.635246</td>\n",
       "      <td>NaN</td>\n",
       "      <td>592.885359</td>\n",
       "      <td>15.180013</td>\n",
       "      <td>56.329076</td>\n",
       "      <td>4.500656</td>\n",
       "      <td>0</td>\n",
       "    </tr>\n",
       "    <tr>\n",
       "      <th>2</th>\n",
       "      <td>8.099124</td>\n",
       "      <td>224.236259</td>\n",
       "      <td>19909.541732</td>\n",
       "      <td>9.275884</td>\n",
       "      <td>NaN</td>\n",
       "      <td>418.606213</td>\n",
       "      <td>16.868637</td>\n",
       "      <td>66.420093</td>\n",
       "      <td>3.055934</td>\n",
       "      <td>0</td>\n",
       "    </tr>\n",
       "    <tr>\n",
       "      <th>3</th>\n",
       "      <td>8.316766</td>\n",
       "      <td>214.373394</td>\n",
       "      <td>22018.417441</td>\n",
       "      <td>8.059332</td>\n",
       "      <td>356.886136</td>\n",
       "      <td>363.266516</td>\n",
       "      <td>18.436524</td>\n",
       "      <td>100.341674</td>\n",
       "      <td>4.628771</td>\n",
       "      <td>0</td>\n",
       "    </tr>\n",
       "    <tr>\n",
       "      <th>4</th>\n",
       "      <td>9.092223</td>\n",
       "      <td>181.101509</td>\n",
       "      <td>17978.986339</td>\n",
       "      <td>6.546600</td>\n",
       "      <td>310.135738</td>\n",
       "      <td>398.410813</td>\n",
       "      <td>11.558279</td>\n",
       "      <td>31.997993</td>\n",
       "      <td>4.075075</td>\n",
       "      <td>0</td>\n",
       "    </tr>\n",
       "  </tbody>\n",
       "</table>\n",
       "</div>"
      ],
      "text/plain": [
       "         ph    hardness        solids  chloramines     sulfate  conductivity  \\\n",
       "0       NaN  204.890455  20791.318981     7.300212  368.516441    564.308654   \n",
       "1  3.716080  129.422921  18630.057858     6.635246         NaN    592.885359   \n",
       "2  8.099124  224.236259  19909.541732     9.275884         NaN    418.606213   \n",
       "3  8.316766  214.373394  22018.417441     8.059332  356.886136    363.266516   \n",
       "4  9.092223  181.101509  17978.986339     6.546600  310.135738    398.410813   \n",
       "\n",
       "   organic_carbon  trihalomethanes  turbidity  potability  \n",
       "0       10.379783        86.990970   2.963135           0  \n",
       "1       15.180013        56.329076   4.500656           0  \n",
       "2       16.868637        66.420093   3.055934           0  \n",
       "3       18.436524       100.341674   4.628771           0  \n",
       "4       11.558279        31.997993   4.075075           0  "
      ]
     },
     "execution_count": 4,
     "metadata": {},
     "output_type": "execute_result"
    }
   ],
   "source": [
    "water_data.head()"
   ]
  },
  {
   "cell_type": "code",
   "execution_count": 5,
   "id": "a3d12728",
   "metadata": {},
   "outputs": [
    {
     "data": {
      "text/html": [
       "<div>\n",
       "<style scoped>\n",
       "    .dataframe tbody tr th:only-of-type {\n",
       "        vertical-align: middle;\n",
       "    }\n",
       "\n",
       "    .dataframe tbody tr th {\n",
       "        vertical-align: top;\n",
       "    }\n",
       "\n",
       "    .dataframe thead th {\n",
       "        text-align: right;\n",
       "    }\n",
       "</style>\n",
       "<table border=\"1\" class=\"dataframe\">\n",
       "  <thead>\n",
       "    <tr style=\"text-align: right;\">\n",
       "      <th></th>\n",
       "      <th>count</th>\n",
       "      <th>mean</th>\n",
       "      <th>std</th>\n",
       "      <th>min</th>\n",
       "      <th>25%</th>\n",
       "      <th>50%</th>\n",
       "      <th>75%</th>\n",
       "      <th>max</th>\n",
       "    </tr>\n",
       "  </thead>\n",
       "  <tbody>\n",
       "    <tr>\n",
       "      <th>ph</th>\n",
       "      <td>2785.0</td>\n",
       "      <td>7.080795</td>\n",
       "      <td>1.594320</td>\n",
       "      <td>0.000000</td>\n",
       "      <td>6.093092</td>\n",
       "      <td>7.036752</td>\n",
       "      <td>8.062066</td>\n",
       "      <td>14.000000</td>\n",
       "    </tr>\n",
       "    <tr>\n",
       "      <th>hardness</th>\n",
       "      <td>3276.0</td>\n",
       "      <td>196.369496</td>\n",
       "      <td>32.879761</td>\n",
       "      <td>47.432000</td>\n",
       "      <td>176.850538</td>\n",
       "      <td>196.967627</td>\n",
       "      <td>216.667456</td>\n",
       "      <td>323.124000</td>\n",
       "    </tr>\n",
       "    <tr>\n",
       "      <th>solids</th>\n",
       "      <td>3276.0</td>\n",
       "      <td>22014.092526</td>\n",
       "      <td>8768.570828</td>\n",
       "      <td>320.942611</td>\n",
       "      <td>15666.690297</td>\n",
       "      <td>20927.833607</td>\n",
       "      <td>27332.762127</td>\n",
       "      <td>61227.196008</td>\n",
       "    </tr>\n",
       "    <tr>\n",
       "      <th>chloramines</th>\n",
       "      <td>3276.0</td>\n",
       "      <td>7.122277</td>\n",
       "      <td>1.583085</td>\n",
       "      <td>0.352000</td>\n",
       "      <td>6.127421</td>\n",
       "      <td>7.130299</td>\n",
       "      <td>8.114887</td>\n",
       "      <td>13.127000</td>\n",
       "    </tr>\n",
       "    <tr>\n",
       "      <th>sulfate</th>\n",
       "      <td>2495.0</td>\n",
       "      <td>333.775777</td>\n",
       "      <td>41.416840</td>\n",
       "      <td>129.000000</td>\n",
       "      <td>307.699498</td>\n",
       "      <td>333.073546</td>\n",
       "      <td>359.950170</td>\n",
       "      <td>481.030642</td>\n",
       "    </tr>\n",
       "    <tr>\n",
       "      <th>conductivity</th>\n",
       "      <td>3276.0</td>\n",
       "      <td>426.205111</td>\n",
       "      <td>80.824064</td>\n",
       "      <td>181.483754</td>\n",
       "      <td>365.734414</td>\n",
       "      <td>421.884968</td>\n",
       "      <td>481.792304</td>\n",
       "      <td>753.342620</td>\n",
       "    </tr>\n",
       "    <tr>\n",
       "      <th>organic_carbon</th>\n",
       "      <td>3276.0</td>\n",
       "      <td>14.284970</td>\n",
       "      <td>3.308162</td>\n",
       "      <td>2.200000</td>\n",
       "      <td>12.065801</td>\n",
       "      <td>14.218338</td>\n",
       "      <td>16.557652</td>\n",
       "      <td>28.300000</td>\n",
       "    </tr>\n",
       "    <tr>\n",
       "      <th>trihalomethanes</th>\n",
       "      <td>3114.0</td>\n",
       "      <td>66.396293</td>\n",
       "      <td>16.175008</td>\n",
       "      <td>0.738000</td>\n",
       "      <td>55.844536</td>\n",
       "      <td>66.622485</td>\n",
       "      <td>77.337473</td>\n",
       "      <td>124.000000</td>\n",
       "    </tr>\n",
       "    <tr>\n",
       "      <th>turbidity</th>\n",
       "      <td>3276.0</td>\n",
       "      <td>3.966786</td>\n",
       "      <td>0.780382</td>\n",
       "      <td>1.450000</td>\n",
       "      <td>3.439711</td>\n",
       "      <td>3.955028</td>\n",
       "      <td>4.500320</td>\n",
       "      <td>6.739000</td>\n",
       "    </tr>\n",
       "    <tr>\n",
       "      <th>potability</th>\n",
       "      <td>3276.0</td>\n",
       "      <td>0.390110</td>\n",
       "      <td>0.487849</td>\n",
       "      <td>0.000000</td>\n",
       "      <td>0.000000</td>\n",
       "      <td>0.000000</td>\n",
       "      <td>1.000000</td>\n",
       "      <td>1.000000</td>\n",
       "    </tr>\n",
       "  </tbody>\n",
       "</table>\n",
       "</div>"
      ],
      "text/plain": [
       "                  count          mean          std         min           25%  \\\n",
       "ph               2785.0      7.080795     1.594320    0.000000      6.093092   \n",
       "hardness         3276.0    196.369496    32.879761   47.432000    176.850538   \n",
       "solids           3276.0  22014.092526  8768.570828  320.942611  15666.690297   \n",
       "chloramines      3276.0      7.122277     1.583085    0.352000      6.127421   \n",
       "sulfate          2495.0    333.775777    41.416840  129.000000    307.699498   \n",
       "conductivity     3276.0    426.205111    80.824064  181.483754    365.734414   \n",
       "organic_carbon   3276.0     14.284970     3.308162    2.200000     12.065801   \n",
       "trihalomethanes  3114.0     66.396293    16.175008    0.738000     55.844536   \n",
       "turbidity        3276.0      3.966786     0.780382    1.450000      3.439711   \n",
       "potability       3276.0      0.390110     0.487849    0.000000      0.000000   \n",
       "\n",
       "                          50%           75%           max  \n",
       "ph                   7.036752      8.062066     14.000000  \n",
       "hardness           196.967627    216.667456    323.124000  \n",
       "solids           20927.833607  27332.762127  61227.196008  \n",
       "chloramines          7.130299      8.114887     13.127000  \n",
       "sulfate            333.073546    359.950170    481.030642  \n",
       "conductivity       421.884968    481.792304    753.342620  \n",
       "organic_carbon      14.218338     16.557652     28.300000  \n",
       "trihalomethanes     66.622485     77.337473    124.000000  \n",
       "turbidity            3.955028      4.500320      6.739000  \n",
       "potability           0.000000      1.000000      1.000000  "
      ]
     },
     "execution_count": 5,
     "metadata": {},
     "output_type": "execute_result"
    }
   ],
   "source": [
    "water_data.describe().T"
   ]
  },
  {
   "cell_type": "markdown",
   "id": "e5b459f3",
   "metadata": {},
   "source": [
    "Column description:\n",
    "\n",
    "1. ph: pH of 1. water (0 to 14).\n",
    "2. Hardness: Capacity of water to precipitate soap in mg/L.\n",
    "3. Solids: Total dissolved solids in ppm.\n",
    "4. Chloramines: Amount of Chloramines in ppm.\n",
    "5. Sulfate: Amount of Sulfates dissolved in mg/L.\n",
    "6. Conductivity: Electrical conductivity of water in μS/cm.\n",
    "7. Organic_carbon: Amount of organic carbon in ppm.\n",
    "8. Trihalomethanes: Amount of Trihalomethanes in μg/L.\n",
    "9. Turbidity: Measure of light emiting property of water in NTU.\n",
    "10. Potability: Indicates if water is safe for human consumption. Potable -1 and Not potable -0"
   ]
  },
  {
   "cell_type": "code",
   "execution_count": 6,
   "id": "46427b01",
   "metadata": {},
   "outputs": [
    {
     "data": {
      "text/plain": [
       "ph                 491\n",
       "hardness             0\n",
       "solids               0\n",
       "chloramines          0\n",
       "sulfate            781\n",
       "conductivity         0\n",
       "organic_carbon       0\n",
       "trihalomethanes    162\n",
       "turbidity            0\n",
       "potability           0\n",
       "dtype: int64"
      ]
     },
     "execution_count": 6,
     "metadata": {},
     "output_type": "execute_result"
    }
   ],
   "source": [
    "water_data.isnull().sum()"
   ]
  },
  {
   "cell_type": "code",
   "execution_count": 7,
   "id": "c79662c9",
   "metadata": {},
   "outputs": [],
   "source": [
    "water_data = water_data.dropna()"
   ]
  },
  {
   "cell_type": "code",
   "execution_count": 8,
   "id": "fd922341",
   "metadata": {},
   "outputs": [
    {
     "data": {
      "text/plain": [
       "(1206, 402, 403)"
      ]
     },
     "execution_count": 8,
     "metadata": {},
     "output_type": "execute_result"
    }
   ],
   "source": [
    "df_full_train, df_test = train_test_split(water_data, test_size=0.2, random_state=1)\n",
    "\n",
    "df_train, df_val  = train_test_split(df_full_train, test_size=0.25, random_state=1)\n",
    "\n",
    "len(df_train), len(df_val), len(df_test)"
   ]
  },
  {
   "cell_type": "code",
   "execution_count": 9,
   "id": "e129cceb",
   "metadata": {},
   "outputs": [],
   "source": [
    "df_train = df_train.reset_index(drop=True)\n",
    "df_val = df_val.reset_index(drop=True)\n",
    "df_test = df_test.reset_index(drop=True)\n",
    "\n",
    "y_train = df_train['potability'].values\n",
    "y_val = df_val['potability'].values\n",
    "y_test = df_test['potability'].values\n",
    "\n",
    "del df_train['potability']\n",
    "del df_val['potability']\n",
    "del df_test['potability']"
   ]
  },
  {
   "cell_type": "code",
   "execution_count": 10,
   "id": "871ffdea",
   "metadata": {},
   "outputs": [
    {
     "data": {
      "text/plain": [
       "ph                 1608\n",
       "hardness           1608\n",
       "solids             1608\n",
       "chloramines        1608\n",
       "sulfate            1608\n",
       "conductivity       1608\n",
       "organic_carbon     1608\n",
       "trihalomethanes    1608\n",
       "turbidity          1608\n",
       "potability            2\n",
       "dtype: int64"
      ]
     },
     "execution_count": 10,
     "metadata": {},
     "output_type": "execute_result"
    }
   ],
   "source": [
    "df_full_train.nunique()"
   ]
  },
  {
   "cell_type": "code",
   "execution_count": 11,
   "id": "42318deb",
   "metadata": {},
   "outputs": [
    {
     "data": {
      "text/html": [
       "<div>\n",
       "<style scoped>\n",
       "    .dataframe tbody tr th:only-of-type {\n",
       "        vertical-align: middle;\n",
       "    }\n",
       "\n",
       "    .dataframe tbody tr th {\n",
       "        vertical-align: top;\n",
       "    }\n",
       "\n",
       "    .dataframe thead th {\n",
       "        text-align: right;\n",
       "    }\n",
       "</style>\n",
       "<table border=\"1\" class=\"dataframe\">\n",
       "  <thead>\n",
       "    <tr style=\"text-align: right;\">\n",
       "      <th></th>\n",
       "      <th>ph</th>\n",
       "      <th>hardness</th>\n",
       "      <th>solids</th>\n",
       "      <th>chloramines</th>\n",
       "      <th>sulfate</th>\n",
       "      <th>conductivity</th>\n",
       "      <th>organic_carbon</th>\n",
       "      <th>trihalomethanes</th>\n",
       "      <th>turbidity</th>\n",
       "    </tr>\n",
       "  </thead>\n",
       "  <tbody>\n",
       "    <tr>\n",
       "      <th>ph</th>\n",
       "      <td>1.000000</td>\n",
       "      <td>0.124217</td>\n",
       "      <td>-0.076731</td>\n",
       "      <td>-0.034642</td>\n",
       "      <td>0.000089</td>\n",
       "      <td>0.011680</td>\n",
       "      <td>0.019419</td>\n",
       "      <td>0.036286</td>\n",
       "      <td>-0.006090</td>\n",
       "    </tr>\n",
       "    <tr>\n",
       "      <th>hardness</th>\n",
       "      <td>0.124217</td>\n",
       "      <td>1.000000</td>\n",
       "      <td>-0.063892</td>\n",
       "      <td>-0.045881</td>\n",
       "      <td>-0.111409</td>\n",
       "      <td>-0.009152</td>\n",
       "      <td>0.000367</td>\n",
       "      <td>-0.026256</td>\n",
       "      <td>-0.015567</td>\n",
       "    </tr>\n",
       "    <tr>\n",
       "      <th>solids</th>\n",
       "      <td>-0.076731</td>\n",
       "      <td>-0.063892</td>\n",
       "      <td>1.000000</td>\n",
       "      <td>-0.061134</td>\n",
       "      <td>-0.152874</td>\n",
       "      <td>-0.012225</td>\n",
       "      <td>-0.018185</td>\n",
       "      <td>0.012462</td>\n",
       "      <td>0.016329</td>\n",
       "    </tr>\n",
       "    <tr>\n",
       "      <th>chloramines</th>\n",
       "      <td>-0.034642</td>\n",
       "      <td>-0.045881</td>\n",
       "      <td>-0.061134</td>\n",
       "      <td>1.000000</td>\n",
       "      <td>0.029642</td>\n",
       "      <td>-0.046040</td>\n",
       "      <td>-0.034337</td>\n",
       "      <td>0.013267</td>\n",
       "      <td>0.045010</td>\n",
       "    </tr>\n",
       "    <tr>\n",
       "      <th>sulfate</th>\n",
       "      <td>0.000089</td>\n",
       "      <td>-0.111409</td>\n",
       "      <td>-0.152874</td>\n",
       "      <td>0.029642</td>\n",
       "      <td>1.000000</td>\n",
       "      <td>-0.031510</td>\n",
       "      <td>0.026061</td>\n",
       "      <td>-0.026431</td>\n",
       "      <td>-0.024705</td>\n",
       "    </tr>\n",
       "    <tr>\n",
       "      <th>conductivity</th>\n",
       "      <td>0.011680</td>\n",
       "      <td>-0.009152</td>\n",
       "      <td>-0.012225</td>\n",
       "      <td>-0.046040</td>\n",
       "      <td>-0.031510</td>\n",
       "      <td>1.000000</td>\n",
       "      <td>0.000761</td>\n",
       "      <td>0.017522</td>\n",
       "      <td>0.012760</td>\n",
       "    </tr>\n",
       "    <tr>\n",
       "      <th>organic_carbon</th>\n",
       "      <td>0.019419</td>\n",
       "      <td>0.000367</td>\n",
       "      <td>-0.018185</td>\n",
       "      <td>-0.034337</td>\n",
       "      <td>0.026061</td>\n",
       "      <td>0.000761</td>\n",
       "      <td>1.000000</td>\n",
       "      <td>-0.009685</td>\n",
       "      <td>-0.012514</td>\n",
       "    </tr>\n",
       "    <tr>\n",
       "      <th>trihalomethanes</th>\n",
       "      <td>0.036286</td>\n",
       "      <td>-0.026256</td>\n",
       "      <td>0.012462</td>\n",
       "      <td>0.013267</td>\n",
       "      <td>-0.026431</td>\n",
       "      <td>0.017522</td>\n",
       "      <td>-0.009685</td>\n",
       "      <td>1.000000</td>\n",
       "      <td>-0.046867</td>\n",
       "    </tr>\n",
       "    <tr>\n",
       "      <th>turbidity</th>\n",
       "      <td>-0.006090</td>\n",
       "      <td>-0.015567</td>\n",
       "      <td>0.016329</td>\n",
       "      <td>0.045010</td>\n",
       "      <td>-0.024705</td>\n",
       "      <td>0.012760</td>\n",
       "      <td>-0.012514</td>\n",
       "      <td>-0.046867</td>\n",
       "      <td>1.000000</td>\n",
       "    </tr>\n",
       "  </tbody>\n",
       "</table>\n",
       "</div>"
      ],
      "text/plain": [
       "                       ph  hardness    solids  chloramines   sulfate  \\\n",
       "ph               1.000000  0.124217 -0.076731    -0.034642  0.000089   \n",
       "hardness         0.124217  1.000000 -0.063892    -0.045881 -0.111409   \n",
       "solids          -0.076731 -0.063892  1.000000    -0.061134 -0.152874   \n",
       "chloramines     -0.034642 -0.045881 -0.061134     1.000000  0.029642   \n",
       "sulfate          0.000089 -0.111409 -0.152874     0.029642  1.000000   \n",
       "conductivity     0.011680 -0.009152 -0.012225    -0.046040 -0.031510   \n",
       "organic_carbon   0.019419  0.000367 -0.018185    -0.034337  0.026061   \n",
       "trihalomethanes  0.036286 -0.026256  0.012462     0.013267 -0.026431   \n",
       "turbidity       -0.006090 -0.015567  0.016329     0.045010 -0.024705   \n",
       "\n",
       "                 conductivity  organic_carbon  trihalomethanes  turbidity  \n",
       "ph                   0.011680        0.019419         0.036286  -0.006090  \n",
       "hardness            -0.009152        0.000367        -0.026256  -0.015567  \n",
       "solids              -0.012225       -0.018185         0.012462   0.016329  \n",
       "chloramines         -0.046040       -0.034337         0.013267   0.045010  \n",
       "sulfate             -0.031510        0.026061        -0.026431  -0.024705  \n",
       "conductivity         1.000000        0.000761         0.017522   0.012760  \n",
       "organic_carbon       0.000761        1.000000        -0.009685  -0.012514  \n",
       "trihalomethanes      0.017522       -0.009685         1.000000  -0.046867  \n",
       "turbidity            0.012760       -0.012514        -0.046867   1.000000  "
      ]
     },
     "execution_count": 11,
     "metadata": {},
     "output_type": "execute_result"
    }
   ],
   "source": [
    "correlations = df_train.corr()\n",
    "correlations"
   ]
  },
  {
   "cell_type": "code",
   "execution_count": 12,
   "id": "5d8d16df",
   "metadata": {},
   "outputs": [
    {
     "data": {
      "text/plain": [
       "<AxesSubplot:>"
      ]
     },
     "execution_count": 12,
     "metadata": {},
     "output_type": "execute_result"
    },
    {
     "data": {
      "image/png": "[encoded data removed]",
      "text/plain": [
       "<Figure size 792x1080 with 2 Axes>"
      ]
     },
     "metadata": {
      "needs_background": "light"
     },
     "output_type": "display_data"
    }
   ],
   "source": [
    "plt.figure(figsize=(11, 15))\n",
    "sns.heatmap(correlations)"
   ]
  },
  {
   "cell_type": "markdown",
   "id": "0a789694",
   "metadata": {},
   "source": [
    "We see there is not much correlation between the features, the features with the most correlation are PH and Hardness, which knowing a little bit about water chemistry is not suprising but it is still a correlation below 0.1"
   ]
  },
  {
   "cell_type": "code",
   "execution_count": 13,
   "id": "17fb33a9",
   "metadata": {},
   "outputs": [
    {
     "data": {
      "text/plain": [
       "ph                 0.677245\n",
       "hardness           0.677245\n",
       "solids             0.677245\n",
       "chloramines        0.677245\n",
       "sulfate            0.677245\n",
       "conductivity       0.677245\n",
       "organic_carbon     0.677245\n",
       "trihalomethanes    0.677245\n",
       "turbidity          0.677245\n",
       "dtype: float64"
      ]
     },
     "execution_count": 13,
     "metadata": {},
     "output_type": "execute_result"
    }
   ],
   "source": [
    "def mutual_info_potability_score(series):\n",
    "    return mutual_info_score(series, df_full_train['potability'])\n",
    "    \n",
    "\n",
    "mi = df_full_train[df_train.columns].apply(mutual_info_potability_score)\n",
    "mi.sort_values(ascending=False)"
   ]
  },
  {
   "cell_type": "markdown",
   "id": "266f87f3",
   "metadata": {},
   "source": [
    "### Parameter selection"
   ]
  },
  {
   "cell_type": "code",
   "execution_count": null,
   "id": "193dc834",
   "metadata": {},
   "outputs": [],
   "source": [
    "param_grid = {\n",
    "    'n_estimators': [100, 200, 300, 750, 1000], \n",
    "    'max_features': ['auto', 'sqrt'],\n",
    "    'bootstrap': [True, False],\n",
    "    'criterion':['entropy', 'gini']\n",
    "}\n",
    "\n",
    "rfcgrid = GridSearchCV(\n",
    "    RandomForestClassifier(random_state=101),\n",
    "    param_grid,\n",
    "    verbose=100,\n",
    "    cv=10,\n",
    "    n_jobs=-2\n",
    ")\n",
    "\n",
    "rfcgrid.fit(df_train, y_train)"
   ]
  },
  {
   "cell_type": "code",
   "execution_count": null,
   "id": "29ce37c8",
   "metadata": {},
   "outputs": [],
   "source": [
    "rfcgrid.best_params_"
   ]
  },
  {
   "cell_type": "code",
   "execution_count": 14,
   "id": "f7df53ac",
   "metadata": {},
   "outputs": [],
   "source": [
    "def train(df, y_train):\n",
    "    dicts = df.to_dict(orient='records')\n",
    "    \n",
    "    dv = DictVectorizer(sparse=False)\n",
    "    X_train = dv.fit_transform(dicts)\n",
    "    \n",
    "    model = RandomForestClassifier(\n",
    "        bootstrap=True,\n",
    "        criterion='entropy',\n",
    "        max_features='sqrt',\n",
    "        n_estimators=100\n",
    "    )\n",
    "    model.fit(X_train, y_train)\n",
    "    \n",
    "    return dv, model"
   ]
  },
  {
   "cell_type": "code",
   "execution_count": 15,
   "id": "29c8db7a",
   "metadata": {},
   "outputs": [],
   "source": [
    "dv, model = train(df_train, y_train)"
   ]
  },
  {
   "cell_type": "code",
   "execution_count": 16,
   "id": "4e94a4b2",
   "metadata": {},
   "outputs": [],
   "source": [
    "def predict(df, dv, model):\n",
    "    dicts = df.to_dict(orient='records')\n",
    "    X = dv.transform(dicts)\n",
    "    y_pred = model.predict(X)\n",
    "    \n",
    "    return y_pred"
   ]
  },
  {
   "cell_type": "code",
   "execution_count": 17,
   "id": "b825bff4",
   "metadata": {},
   "outputs": [
    {
     "data": {
      "text/plain": [
       "0.6247237748602625"
      ]
     },
     "execution_count": 17,
     "metadata": {},
     "output_type": "execute_result"
    }
   ],
   "source": [
    "y_pred = predict(df_val,dv, model)\n",
    "roc_auc_score(y_val, y_pred)"
   ]
  },
  {
   "cell_type": "code",
   "execution_count": 18,
   "id": "968268b9",
   "metadata": {},
   "outputs": [
    {
     "data": {
      "text/plain": [
       "0.6666666666666666"
      ]
     },
     "execution_count": 18,
     "metadata": {},
     "output_type": "execute_result"
    }
   ],
   "source": [
    "original_accuracy = (y_val == y_pred).mean()\n",
    "original_accuracy"
   ]
  },
  {
   "cell_type": "code",
   "execution_count": 19,
   "id": "1739ff88",
   "metadata": {},
   "outputs": [],
   "source": [
    "def model_accuracy(feature_to_remove):\n",
    "    print(feature_to_remove)\n",
    "    print()\n",
    "    sub_features = np.array([x for x in df_train.columns if x != feature_to_remove])\n",
    "    train_dicts = df_train[sub_features].to_dict(orient='records')\n",
    "    dv = DictVectorizer(sparse=False)\n",
    "    X_train = dv.fit_transform(train_dicts)\n",
    "    val_dicts = df_val[sub_features].to_dict(orient='records')\n",
    "    X_val = dv.transform(val_dicts)\n",
    "    model = LogisticRegression(solver='liblinear', C=1.0, random_state=42)\n",
    "    model.fit(X_train, y_train)\n",
    "    y_pred = model.predict(X_val)\n",
    "    diff = original_accuracy - (y_val == y_pred).mean()\n",
    "    print(round(original_accuracy, 4), round((y_val == y_pred).mean(), 4), round(diff, 4))\n",
    "    print()"
   ]
  },
  {
   "cell_type": "code",
   "execution_count": 20,
   "id": "629c58ed",
   "metadata": {},
   "outputs": [
    {
     "name": "stdout",
     "output_type": "stream",
     "text": [
      "ph\n",
      "\n",
      "0.6667 0.6095 0.0572\n",
      "\n",
      "hardness\n",
      "\n",
      "0.6667 0.602 0.0647\n",
      "\n",
      "solids\n",
      "\n",
      "0.6667 0.6095 0.0572\n",
      "\n",
      "chloramines\n",
      "\n",
      "0.6667 0.6144 0.0522\n",
      "\n",
      "sulfate\n",
      "\n",
      "0.6667 0.607 0.0597\n",
      "\n",
      "conductivity\n",
      "\n",
      "0.6667 0.6169 0.0498\n",
      "\n",
      "organic_carbon\n",
      "\n",
      "0.6667 0.6144 0.0522\n",
      "\n",
      "trihalomethanes\n",
      "\n",
      "0.6667 0.6119 0.0547\n",
      "\n",
      "turbidity\n",
      "\n",
      "0.6667 0.6119 0.0547\n",
      "\n"
     ]
    }
   ],
   "source": [
    "model_accuracy('ph')\n",
    "model_accuracy('hardness')\n",
    "model_accuracy('solids')\n",
    "model_accuracy('chloramines')\n",
    "model_accuracy('sulfate')\n",
    "model_accuracy('conductivity')\n",
    "model_accuracy('organic_carbon')\n",
    "model_accuracy('trihalomethanes')\n",
    "model_accuracy('turbidity')"
   ]
  },
  {
   "cell_type": "code",
   "execution_count": 21,
   "id": "626bd26b",
   "metadata": {},
   "outputs": [],
   "source": [
    "features = ['trihalomethanes', 'turbidity', 'sulfate', 'hardness', 'ph', 'solids' ]"
   ]
  },
  {
   "cell_type": "code",
   "execution_count": 22,
   "id": "e44814fb",
   "metadata": {},
   "outputs": [],
   "source": [
    "dv, model = train(df_train[features], y_train)"
   ]
  },
  {
   "cell_type": "code",
   "execution_count": 23,
   "id": "03f1c42f",
   "metadata": {},
   "outputs": [
    {
     "data": {
      "text/plain": [
       "0.589535941765241"
      ]
     },
     "execution_count": 23,
     "metadata": {},
     "output_type": "execute_result"
    }
   ],
   "source": [
    "y_pred = predict(df_val[features],dv, model)\n",
    "roc_auc_score(y_val, y_pred)"
   ]
  },
  {
   "cell_type": "code",
   "execution_count": 24,
   "id": "2fc9bde9",
   "metadata": {},
   "outputs": [
    {
     "data": {
      "text/plain": [
       "0.6293532338308457"
      ]
     },
     "execution_count": 24,
     "metadata": {},
     "output_type": "execute_result"
    }
   ],
   "source": [
    "accuracy = (y_val == y_pred).mean()\n",
    "accuracy"
   ]
  }
 ],
 "metadata": {
  "kernelspec": {
   "display_name": "Python 3 (ipykernel)",
   "language": "python",
   "name": "python3"
  },
  "language_info": {
   "codemirror_mode": {
    "name": "ipython",
    "version": 3
   },
   "file_extension": ".py",
   "mimetype": "text/x-python",
   "name": "python",
   "nbconvert_exporter": "python",
   "pygments_lexer": "ipython3",
   "version": "3.9.6"
  }
 },
 "nbformat": 4,
 "nbformat_minor": 5
}
