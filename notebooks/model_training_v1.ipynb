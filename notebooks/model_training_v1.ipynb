{
 "cells": [
  {
   "cell_type": "markdown",
   "id": "cffd5c19",
   "metadata": {},
   "source": [
    "# Water Potabilty model evaluation"
   ]
  },
  {
   "cell_type": "code",
   "execution_count": 1,
   "id": "19fc0058",
   "metadata": {},
   "outputs": [],
   "source": [
    "import pandas as pd\n",
    "import numpy as np\n",
    "\n",
    "pd.options.display.max_colwidth = 999\n",
    "pd.options.display.max_rows = 999\n",
    "\n",
    "from sklearn.linear_model import LogisticRegression\n",
    "from sklearn.ensemble import RandomForestClassifier\n",
    "from sklearn.model_selection import train_test_split\n",
    "import matplotlib.pyplot as plt\n",
    "import seaborn as sns\n",
    "\n",
    "from sklearn.feature_extraction import DictVectorizer\n",
    "\n",
    "from sklearn.metrics import accuracy_score, f1_score\n",
    "from sklearn.metrics import roc_auc_score, roc_curve, auc\n",
    "from sklearn.metrics import mutual_info_score\n",
    "\n",
    "import warnings\n",
    "warnings.filterwarnings('ignore')\n",
    "\n",
    "%matplotlib inline"
   ]
  },
  {
   "cell_type": "code",
   "execution_count": 2,
   "id": "8b5c5e63",
   "metadata": {
    "scrolled": true
   },
   "outputs": [],
   "source": [
    "water_data = pd.read_csv('data/water_potability.csv')"
   ]
  },
  {
   "cell_type": "markdown",
   "id": "993b7f32",
   "metadata": {},
   "source": [
    "### Data cleaning"
   ]
  },
  {
   "cell_type": "code",
   "execution_count": 3,
   "id": "1a286da4",
   "metadata": {},
   "outputs": [],
   "source": [
    "water_data.columns = water_data.columns.str.lower().str.replace(' ', '_')"
   ]
  },
  {
   "cell_type": "code",
   "execution_count": 4,
   "id": "1cfe4d63",
   "metadata": {},
   "outputs": [
    {
     "data": {
      "text/plain": [
       "7.080794504276819"
      ]
     },
     "execution_count": 4,
     "metadata": {},
     "output_type": "execute_result"
    }
   ],
   "source": [
    "ph_mean = water_data['ph'].mean()\n",
    "ph_mean"
   ]
  },
  {
   "cell_type": "code",
   "execution_count": 5,
   "id": "68f45167",
   "metadata": {},
   "outputs": [],
   "source": [
    "water_data['ph'] = water_data['ph'].fillna(ph_mean)"
   ]
  },
  {
   "cell_type": "code",
   "execution_count": 6,
   "id": "9e4e2833",
   "metadata": {},
   "outputs": [
    {
     "data": {
      "text/plain": [
       "333.7757766108134"
      ]
     },
     "execution_count": 6,
     "metadata": {},
     "output_type": "execute_result"
    }
   ],
   "source": [
    "sulfate_mean = water_data['sulfate'].mean()\n",
    "sulfate_mean"
   ]
  },
  {
   "cell_type": "code",
   "execution_count": 7,
   "id": "52d37769",
   "metadata": {},
   "outputs": [],
   "source": [
    "water_data['sulfate'] = water_data['sulfate'].fillna(sulfate_mean)"
   ]
  },
  {
   "cell_type": "code",
   "execution_count": 8,
   "id": "2eb913fd",
   "metadata": {},
   "outputs": [],
   "source": [
    "water_data = water_data.dropna()"
   ]
  },
  {
   "cell_type": "code",
   "execution_count": 9,
   "id": "1d722f4a",
   "metadata": {},
   "outputs": [
    {
     "data": {
      "text/plain": [
       "ph                 2650\n",
       "hardness           3114\n",
       "solids             3114\n",
       "chloramines        3114\n",
       "sulfate            2374\n",
       "conductivity       3114\n",
       "organic_carbon     3114\n",
       "trihalomethanes    3114\n",
       "turbidity          3114\n",
       "potability            2\n",
       "dtype: int64"
      ]
     },
     "execution_count": 9,
     "metadata": {},
     "output_type": "execute_result"
    }
   ],
   "source": [
    "water_data.nunique()"
   ]
  },
  {
   "cell_type": "markdown",
   "id": "beda078f",
   "metadata": {},
   "source": [
    "### Split data"
   ]
  },
  {
   "cell_type": "code",
   "execution_count": 10,
   "id": "1dda8d6c",
   "metadata": {},
   "outputs": [
    {
     "data": {
      "text/plain": [
       "(1868, 623, 623)"
      ]
     },
     "execution_count": 10,
     "metadata": {},
     "output_type": "execute_result"
    }
   ],
   "source": [
    "df_full_train, df_test = train_test_split(water_data, test_size=0.2, random_state=1)\n",
    "\n",
    "df_train, df_val  = train_test_split(df_full_train, test_size=0.25, random_state=1)\n",
    "\n",
    "len(df_train), len(df_val), len(df_test)"
   ]
  },
  {
   "cell_type": "code",
   "execution_count": 11,
   "id": "d44d680e",
   "metadata": {},
   "outputs": [],
   "source": [
    "df_train = df_train.reset_index(drop=True)\n",
    "df_val = df_val.reset_index(drop=True)\n",
    "df_test = df_test.reset_index(drop=True)\n",
    "\n",
    "y_train = df_train['potability'].values\n",
    "y_val = df_val['potability'].values\n",
    "y_test = df_test['potability'].values\n",
    "\n",
    "del df_train['potability']\n",
    "del df_val['potability']\n",
    "del df_test['potability']"
   ]
  },
  {
   "cell_type": "code",
   "execution_count": 12,
   "id": "806d2151",
   "metadata": {},
   "outputs": [
    {
     "data": {
      "text/plain": [
       "0    0.604175\n",
       "1    0.395825\n",
       "Name: potability, dtype: float64"
      ]
     },
     "execution_count": 12,
     "metadata": {},
     "output_type": "execute_result"
    }
   ],
   "source": [
    "df_full_train = df_full_train.reset_index(drop=True)\n",
    "df_full_train['potability'].value_counts(normalize=True)"
   ]
  },
  {
   "cell_type": "markdown",
   "id": "26c87196",
   "metadata": {},
   "source": [
    "### Train a model"
   ]
  },
  {
   "cell_type": "code",
   "execution_count": 13,
   "id": "d3db3b59",
   "metadata": {},
   "outputs": [],
   "source": [
    "features = ['trihalomethanes', 'turbidity', 'sulfate', 'hardness', 'ph', 'solids' ]"
   ]
  },
  {
   "cell_type": "code",
   "execution_count": 14,
   "id": "9d9d0952",
   "metadata": {},
   "outputs": [],
   "source": [
    "def train(df, y_train):\n",
    "    dicts = df[features].to_dict(orient='records')\n",
    "    \n",
    "    dv = DictVectorizer(sparse=False)\n",
    "    X_train = dv.fit_transform(dicts)\n",
    "    \n",
    "    model = RandomForestClassifier(\n",
    "        bootstrap=True,\n",
    "        criterion='entropy',\n",
    "        max_features='sqrt',\n",
    "        n_estimators=100\n",
    "    )\n",
    "    model.fit(X_train, y_train)\n",
    "    \n",
    "    return dv, model"
   ]
  },
  {
   "cell_type": "code",
   "execution_count": 15,
   "id": "3642879b",
   "metadata": {},
   "outputs": [],
   "source": [
    "dv, model = train(df_train, y_train)"
   ]
  },
  {
   "cell_type": "code",
   "execution_count": 16,
   "id": "97e52405",
   "metadata": {},
   "outputs": [],
   "source": [
    "def predict(df, dv, model):\n",
    "    dicts = df[features].to_dict(orient='records')\n",
    "    X = dv.transform(dicts)\n",
    "    y_pred = model.predict_proba(X)[:,1]\n",
    "    \n",
    "    return y_pred"
   ]
  },
  {
   "cell_type": "code",
   "execution_count": 17,
   "id": "f3f69910",
   "metadata": {},
   "outputs": [],
   "source": [
    "y_pred = predict(df_val, dv, model)"
   ]
  },
  {
   "cell_type": "markdown",
   "id": "4402a8ce",
   "metadata": {},
   "source": [
    "### Calculate accuracy"
   ]
  },
  {
   "cell_type": "code",
   "execution_count": 18,
   "id": "7fe36768",
   "metadata": {},
   "outputs": [
    {
     "data": {
      "text/plain": [
       "0.673"
      ]
     },
     "execution_count": 18,
     "metadata": {},
     "output_type": "execute_result"
    }
   ],
   "source": [
    "accuracy = accuracy_score(y_val, y_pred >= 0.5)\n",
    "round(accuracy, 3)"
   ]
  },
  {
   "cell_type": "markdown",
   "id": "cc5b50fb",
   "metadata": {},
   "source": [
    "### Threshold tuning"
   ]
  },
  {
   "cell_type": "code",
   "execution_count": 19,
   "id": "c947c654",
   "metadata": {},
   "outputs": [],
   "source": [
    "thresholds = np.linspace(0,1,21)\n",
    "\n",
    "scores = []\n",
    "\n",
    "for threshold in thresholds:\n",
    "    potable_decision = (y_pred >= threshold)\n",
    "    score = (potable_decision == y_val).mean()\n",
    "    scores.append((round(threshold, 3), round(score, 3)))"
   ]
  },
  {
   "cell_type": "code",
   "execution_count": 20,
   "id": "52118382",
   "metadata": {},
   "outputs": [
    {
     "data": {
      "text/plain": [
       "[(0.0, 0.352),\n",
       " (0.05, 0.352),\n",
       " (0.1, 0.355),\n",
       " (0.15, 0.368),\n",
       " (0.2, 0.404),\n",
       " (0.25, 0.462),\n",
       " (0.3, 0.52),\n",
       " (0.35, 0.57),\n",
       " (0.4, 0.608),\n",
       " (0.45, 0.658),\n",
       " (0.5, 0.673),\n",
       " (0.55, 0.7),\n",
       " (0.6, 0.7),\n",
       " (0.65, 0.693),\n",
       " (0.7, 0.689),\n",
       " (0.75, 0.681),\n",
       " (0.8, 0.668),\n",
       " (0.85, 0.655),\n",
       " (0.9, 0.652),\n",
       " (0.95, 0.648),\n",
       " (1.0, 0.648)]"
      ]
     },
     "execution_count": 20,
     "metadata": {},
     "output_type": "execute_result"
    }
   ],
   "source": [
    "scores"
   ]
  },
  {
   "cell_type": "markdown",
   "id": "e99217d9",
   "metadata": {},
   "source": [
    "0.55 threshold gives us the highest accuracy score of 0.692"
   ]
  },
  {
   "cell_type": "code",
   "execution_count": 21,
   "id": "5efeb8bb",
   "metadata": {},
   "outputs": [],
   "source": [
    "threshold = 0.55"
   ]
  },
  {
   "cell_type": "markdown",
   "id": "99634eb3",
   "metadata": {},
   "source": [
    "### Confusion matrix"
   ]
  },
  {
   "cell_type": "code",
   "execution_count": 22,
   "id": "e4ae2203",
   "metadata": {},
   "outputs": [],
   "source": [
    "actual_positive = (y_val == 1)\n",
    "actual_negative = (y_val == 0)\n",
    "\n",
    "threshold = 0.5\n",
    "predict_positive = (y_pred >= threshold)\n",
    "predict_negative = (y_pred < threshold)"
   ]
  },
  {
   "cell_type": "code",
   "execution_count": 23,
   "id": "fff8ac01",
   "metadata": {},
   "outputs": [
    {
     "data": {
      "text/plain": [
       "82"
      ]
     },
     "execution_count": 23,
     "metadata": {},
     "output_type": "execute_result"
    }
   ],
   "source": [
    "true_positive = (predict_positive & actual_positive).sum()\n",
    "true_positive"
   ]
  },
  {
   "cell_type": "code",
   "execution_count": 24,
   "id": "63d23cb1",
   "metadata": {},
   "outputs": [
    {
     "data": {
      "text/plain": [
       "337"
      ]
     },
     "execution_count": 24,
     "metadata": {},
     "output_type": "execute_result"
    }
   ],
   "source": [
    "true_negative = (predict_negative & actual_negative).sum()\n",
    "true_negative"
   ]
  },
  {
   "cell_type": "code",
   "execution_count": 25,
   "id": "a72b2db7",
   "metadata": {},
   "outputs": [
    {
     "data": {
      "text/plain": [
       "67"
      ]
     },
     "execution_count": 25,
     "metadata": {},
     "output_type": "execute_result"
    }
   ],
   "source": [
    "false_positive = (predict_positive & actual_negative).sum()\n",
    "false_positive"
   ]
  },
  {
   "cell_type": "code",
   "execution_count": 26,
   "id": "892f06c6",
   "metadata": {},
   "outputs": [
    {
     "data": {
      "text/plain": [
       "137"
      ]
     },
     "execution_count": 26,
     "metadata": {},
     "output_type": "execute_result"
    }
   ],
   "source": [
    "false_negative = (predict_negative & actual_positive).sum()\n",
    "false_negative"
   ]
  },
  {
   "cell_type": "code",
   "execution_count": 27,
   "id": "a00421fd",
   "metadata": {},
   "outputs": [
    {
     "data": {
      "text/plain": [
       "array([[337,  67],\n",
       "       [137,  82]])"
      ]
     },
     "execution_count": 27,
     "metadata": {},
     "output_type": "execute_result"
    }
   ],
   "source": [
    "confusion_matrix = np.array([\n",
    "    [true_negative, false_positive],\n",
    "    [false_negative, true_positive]\n",
    "])\n",
    "confusion_matrix"
   ]
  },
  {
   "cell_type": "markdown",
   "id": "adab6fdf",
   "metadata": {},
   "source": [
    "### Precision and Recall"
   ]
  },
  {
   "cell_type": "code",
   "execution_count": 28,
   "id": "d7db3f3f",
   "metadata": {},
   "outputs": [
    {
     "data": {
      "text/plain": [
       "0.5503355704697986"
      ]
     },
     "execution_count": 28,
     "metadata": {},
     "output_type": "execute_result"
    }
   ],
   "source": [
    "precision = true_positive / (true_positive + false_positive)\n",
    "precision"
   ]
  },
  {
   "cell_type": "code",
   "execution_count": 29,
   "id": "7507d3ab",
   "metadata": {},
   "outputs": [
    {
     "data": {
      "text/plain": [
       "0.3744292237442922"
      ]
     },
     "execution_count": 29,
     "metadata": {},
     "output_type": "execute_result"
    }
   ],
   "source": [
    "recall = true_positive / (true_positive + false_negative)\n",
    "recall"
   ]
  },
  {
   "cell_type": "markdown",
   "id": "6746c593",
   "metadata": {},
   "source": [
    "For 68% of the water samples that are potatable we failed to identify them."
   ]
  },
  {
   "cell_type": "markdown",
   "id": "080ad436",
   "metadata": {},
   "source": [
    "### f1_score"
   ]
  },
  {
   "cell_type": "code",
   "execution_count": 31,
   "id": "88dee2f7",
   "metadata": {},
   "outputs": [],
   "source": [
    "y_preds = pd.Series(y_pred).apply(lambda x: 1 if x >= threshold else 0)"
   ]
  },
  {
   "cell_type": "code",
   "execution_count": 32,
   "id": "0cc5a0c2",
   "metadata": {},
   "outputs": [
    {
     "data": {
      "text/plain": [
       "0.44565217391304346"
      ]
     },
     "execution_count": 32,
     "metadata": {},
     "output_type": "execute_result"
    }
   ],
   "source": [
    "f1 = f1_score(y_val, y_preds)\n",
    "f1"
   ]
  },
  {
   "cell_type": "markdown",
   "id": "2ad5cc63",
   "metadata": {},
   "source": [
    "### ROC values"
   ]
  },
  {
   "cell_type": "code",
   "execution_count": 33,
   "id": "e5788a61",
   "metadata": {},
   "outputs": [],
   "source": [
    "fpr, tpr, t = roc_curve(y_val, y_pred)"
   ]
  },
  {
   "cell_type": "code",
   "execution_count": 34,
   "id": "4a0e538c",
   "metadata": {},
   "outputs": [
    {
     "data": {
      "text/plain": [
       "[<matplotlib.lines.Line2D at 0x7f86eb361fa0>]"
      ]
     },
     "execution_count": 34,
     "metadata": {},
     "output_type": "execute_result"
    },
    {
     "data": {
      "image/png": "[encoded data removed]",
      "text/plain": [
       "<Figure size 360x360 with 1 Axes>"
      ]
     },
     "metadata": {
      "needs_background": "light"
     },
     "output_type": "display_data"
    }
   ],
   "source": [
    "plt.figure(figsize=(5,5))\n",
    "\n",
    "plt.xlabel('FPR')\n",
    "plt.ylabel('TPR')\n",
    "\n",
    "plt.title('AUC curve for Water potablity')\n",
    "plt.plot(fpr, tpr, label='Model')"
   ]
  },
  {
   "cell_type": "code",
   "execution_count": 35,
   "id": "a06b14e9",
   "metadata": {},
   "outputs": [
    {
     "data": {
      "text/plain": [
       "0.6725722229757223"
      ]
     },
     "execution_count": 35,
     "metadata": {},
     "output_type": "execute_result"
    }
   ],
   "source": [
    "roc_auc_score(y_val, y_pred)"
   ]
  },
  {
   "cell_type": "markdown",
   "id": "8da8b563",
   "metadata": {},
   "source": [
    "### Cross Validation"
   ]
  },
  {
   "cell_type": "code",
   "execution_count": 36,
   "id": "9ef81ff3",
   "metadata": {},
   "outputs": [],
   "source": [
    "from sklearn.model_selection import KFold"
   ]
  },
  {
   "cell_type": "code",
   "execution_count": 37,
   "id": "6decba9c",
   "metadata": {},
   "outputs": [],
   "source": [
    "kfold = KFold(n_splits=10, shuffle=True, random_state=1)"
   ]
  },
  {
   "cell_type": "code",
   "execution_count": 38,
   "id": "10ae5308",
   "metadata": {},
   "outputs": [
    {
     "data": {
      "text/plain": [
       "(2241, 250)"
      ]
     },
     "execution_count": 38,
     "metadata": {},
     "output_type": "execute_result"
    }
   ],
   "source": [
    "train_idx, val_idx = next(kfold.split(df_full_train)) \n",
    "len(train_idx), len(val_idx)"
   ]
  },
  {
   "cell_type": "code",
   "execution_count": 39,
   "id": "884cbaba",
   "metadata": {},
   "outputs": [],
   "source": [
    "df_train = df_full_train.iloc[train_idx]\n",
    "df_val = df_full_train.iloc[val_idx]"
   ]
  },
  {
   "cell_type": "code",
   "execution_count": 40,
   "id": "ee735328",
   "metadata": {},
   "outputs": [],
   "source": [
    "scores = []\n",
    "\n",
    "for train_idx, val_idx in kfold.split(df_full_train):\n",
    "    df_train = df_full_train.iloc[train_idx]\n",
    "    df_val = df_full_train.iloc[val_idx]\n",
    "    \n",
    "    y_train = df_train['potability'].values\n",
    "    y_val = df_val['potability'].values\n",
    "    \n",
    "    dv, model = train(df_train, y_train)\n",
    "    y_pred = predict(df_val, dv, model)\n",
    "    \n",
    "    auc = roc_auc_score(y_val, y_pred)\n",
    "    \n",
    "    scores.append(auc)"
   ]
  },
  {
   "cell_type": "code",
   "execution_count": 41,
   "id": "0fe5e24d",
   "metadata": {},
   "outputs": [
    {
     "data": {
      "text/plain": [
       "[0.6993918031653881,\n",
       " 0.7033102766798419,\n",
       " 0.5884831460674158,\n",
       " 0.6603703201302225,\n",
       " 0.6462296663909567,\n",
       " 0.6517940509537148,\n",
       " 0.7079365079365079,\n",
       " 0.6605897064630776,\n",
       " 0.645935960591133,\n",
       " 0.6224827679416138]"
      ]
     },
     "execution_count": 41,
     "metadata": {},
     "output_type": "execute_result"
    }
   ],
   "source": [
    "scores"
   ]
  }
 ],
 "metadata": {
  "kernelspec": {
   "display_name": "Python 3 (ipykernel)",
   "language": "python",
   "name": "python3"
  },
  "language_info": {
   "codemirror_mode": {
    "name": "ipython",
    "version": 3
   },
   "file_extension": ".py",
   "mimetype": "text/x-python",
   "name": "python",
   "nbconvert_exporter": "python",
   "pygments_lexer": "ipython3",
   "version": "3.9.6"
  }
 },
 "nbformat": 4,
 "nbformat_minor": 5
}
