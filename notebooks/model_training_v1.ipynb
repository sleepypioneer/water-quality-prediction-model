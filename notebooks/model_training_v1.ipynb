{
 "cells": [
  {
   "cell_type": "markdown",
   "id": "d9925467",
   "metadata": {},
   "source": [
    "# Water Potabilty model evaluation"
   ]
  },
  {
   "cell_type": "code",
   "execution_count": 1,
   "id": "4df10119",
   "metadata": {},
   "outputs": [],
   "source": [
    "import pandas as pd\n",
    "import numpy as np\n",
    "\n",
    "pd.options.display.max_colwidth = 999\n",
    "pd.options.display.max_rows = 999\n",
    "\n",
    "from sklearn.linear_model import LogisticRegression\n",
    "from sklearn.ensemble import RandomForestClassifier\n",
    "from sklearn.model_selection import train_test_split\n",
    "import matplotlib.pyplot as plt\n",
    "import seaborn as sns\n",
    "\n",
    "from sklearn.feature_extraction import DictVectorizer\n",
    "\n",
    "from sklearn.metrics import accuracy_score, f1_score\n",
    "from sklearn.metrics import roc_auc_score, roc_curve, auc\n",
    "from sklearn.metrics import mutual_info_score\n",
    "\n",
    "import warnings\n",
    "warnings.filterwarnings('ignore')\n",
    "\n",
    "%matplotlib inline"
   ]
  },
  {
   "cell_type": "code",
   "execution_count": 2,
   "id": "66c3b843",
   "metadata": {
    "scrolled": true
   },
   "outputs": [],
   "source": [
    "water_data = pd.read_csv('data/water_potability.csv')"
   ]
  },
  {
   "cell_type": "markdown",
   "id": "a737a491",
   "metadata": {},
   "source": [
    "### Data cleaning"
   ]
  },
  {
   "cell_type": "code",
   "execution_count": 3,
   "id": "50008d7f",
   "metadata": {},
   "outputs": [],
   "source": [
    "water_data.columns = water_data.columns.str.lower().str.replace(' ', '_')"
   ]
  },
  {
   "cell_type": "code",
   "execution_count": 4,
   "id": "8722f917",
   "metadata": {},
   "outputs": [
    {
     "data": {
      "text/plain": [
       "7.080794504276819"
      ]
     },
     "execution_count": 4,
     "metadata": {},
     "output_type": "execute_result"
    }
   ],
   "source": [
    "ph_mean = water_data['ph'].mean()\n",
    "ph_mean"
   ]
  },
  {
   "cell_type": "code",
   "execution_count": 5,
   "id": "99e4d7d0",
   "metadata": {},
   "outputs": [],
   "source": [
    "water_data['ph'] = water_data['ph'].fillna(ph_mean)"
   ]
  },
  {
   "cell_type": "code",
   "execution_count": 6,
   "id": "6af31c3a",
   "metadata": {},
   "outputs": [
    {
     "data": {
      "text/plain": [
       "333.7757766108134"
      ]
     },
     "execution_count": 6,
     "metadata": {},
     "output_type": "execute_result"
    }
   ],
   "source": [
    "sulfate_mean = water_data['sulfate'].mean()\n",
    "sulfate_mean"
   ]
  },
  {
   "cell_type": "code",
   "execution_count": 7,
   "id": "3567969a",
   "metadata": {},
   "outputs": [],
   "source": [
    "water_data['sulfate'] = water_data['sulfate'].fillna(sulfate_mean)"
   ]
  },
  {
   "cell_type": "code",
   "execution_count": 8,
   "id": "a3830f5b",
   "metadata": {},
   "outputs": [],
   "source": [
    "water_data = water_data.dropna()"
   ]
  },
  {
   "cell_type": "code",
   "execution_count": 9,
   "id": "de94461a",
   "metadata": {},
   "outputs": [
    {
     "data": {
      "text/plain": [
       "ph                 2650\n",
       "hardness           3114\n",
       "solids             3114\n",
       "chloramines        3114\n",
       "sulfate            2374\n",
       "conductivity       3114\n",
       "organic_carbon     3114\n",
       "trihalomethanes    3114\n",
       "turbidity          3114\n",
       "potability            2\n",
       "dtype: int64"
      ]
     },
     "execution_count": 9,
     "metadata": {},
     "output_type": "execute_result"
    }
   ],
   "source": [
    "water_data.nunique()"
   ]
  },
  {
   "cell_type": "markdown",
   "id": "25d7cb9e",
   "metadata": {},
   "source": [
    "### Split data"
   ]
  },
  {
   "cell_type": "code",
   "execution_count": 10,
   "id": "2c825e53",
   "metadata": {},
   "outputs": [
    {
     "data": {
      "text/plain": [
       "(1868, 623, 623)"
      ]
     },
     "execution_count": 10,
     "metadata": {},
     "output_type": "execute_result"
    }
   ],
   "source": [
    "df_full_train, df_test = train_test_split(water_data, test_size=0.2, random_state=1)\n",
    "\n",
    "df_train, df_val  = train_test_split(df_full_train, test_size=0.25, random_state=1)\n",
    "\n",
    "len(df_train), len(df_val), len(df_test)"
   ]
  },
  {
   "cell_type": "code",
   "execution_count": 11,
   "id": "16243f00",
   "metadata": {},
   "outputs": [],
   "source": [
    "df_train = df_train.reset_index(drop=True)\n",
    "df_val = df_val.reset_index(drop=True)\n",
    "df_test = df_test.reset_index(drop=True)\n",
    "\n",
    "y_train = df_train['potability'].values\n",
    "y_val = df_val['potability'].values\n",
    "y_test = df_test['potability'].values\n",
    "\n",
    "del df_train['potability']\n",
    "del df_val['potability']\n",
    "del df_test['potability']"
   ]
  },
  {
   "cell_type": "code",
   "execution_count": 12,
   "id": "361db70f",
   "metadata": {},
   "outputs": [
    {
     "data": {
      "text/plain": [
       "0    0.604175\n",
       "1    0.395825\n",
       "Name: potability, dtype: float64"
      ]
     },
     "execution_count": 12,
     "metadata": {},
     "output_type": "execute_result"
    }
   ],
   "source": [
    "df_full_train = df_full_train.reset_index(drop=True)\n",
    "df_full_train['potability'].value_counts(normalize=True)"
   ]
  },
  {
   "cell_type": "markdown",
   "id": "76c2c367",
   "metadata": {},
   "source": [
    "### Train a model"
   ]
  },
  {
   "cell_type": "code",
   "execution_count": 13,
   "id": "de157535",
   "metadata": {},
   "outputs": [],
   "source": [
    "features = ['trihalomethanes', 'turbidity', 'sulfate', 'hardness', 'ph', 'solids' ]"
   ]
  },
  {
   "cell_type": "code",
   "execution_count": 14,
   "id": "8c884004",
   "metadata": {},
   "outputs": [],
   "source": [
    "def train(df, y_train):\n",
    "    dicts = df[features].to_dict(orient='records')\n",
    "    \n",
    "    dv = DictVectorizer(sparse=False)\n",
    "    X_train = dv.fit_transform(dicts)\n",
    "    \n",
    "    model = RandomForestClassifier(\n",
    "        bootstrap=True,\n",
    "        criterion='entropy',\n",
    "        max_features='sqrt',\n",
    "        n_estimators=100\n",
    "    )\n",
    "    model.fit(X_train, y_train)\n",
    "    \n",
    "    return dv, model"
   ]
  },
  {
   "cell_type": "code",
   "execution_count": 15,
   "id": "bf8ad4e6",
   "metadata": {},
   "outputs": [],
   "source": [
    "dv, model = train(df_train, y_train)"
   ]
  },
  {
   "cell_type": "code",
   "execution_count": 16,
   "id": "867d0eb7",
   "metadata": {},
   "outputs": [],
   "source": [
    "def predict(df, dv, model):\n",
    "    dicts = df[features].to_dict(orient='records')\n",
    "    X = dv.transform(dicts)\n",
    "    y_pred = model.predict_proba(X)[:,1]\n",
    "    \n",
    "    return y_pred"
   ]
  },
  {
   "cell_type": "code",
   "execution_count": 17,
   "id": "cd7b478f",
   "metadata": {},
   "outputs": [],
   "source": [
    "y_pred = predict(df_val, dv, model)"
   ]
  },
  {
   "cell_type": "markdown",
   "id": "987b9aec",
   "metadata": {},
   "source": [
    "### Calculate accuracy"
   ]
  },
  {
   "cell_type": "code",
   "execution_count": 18,
   "id": "b3a13b76",
   "metadata": {},
   "outputs": [
    {
     "data": {
      "text/plain": [
       "0.673"
      ]
     },
     "execution_count": 18,
     "metadata": {},
     "output_type": "execute_result"
    }
   ],
   "source": [
    "accuracy = accuracy_score(y_val, y_pred >= 0.5)\n",
    "round(accuracy, 3)"
   ]
  },
  {
   "cell_type": "markdown",
   "id": "e00c0d05",
   "metadata": {},
   "source": [
    "### Threshold tuning"
   ]
  },
  {
   "cell_type": "code",
   "execution_count": 19,
   "id": "107bc8b5",
   "metadata": {},
   "outputs": [],
   "source": [
    "thresholds = np.linspace(0,1,21)\n",
    "\n",
    "scores = []\n",
    "\n",
    "for threshold in thresholds:\n",
    "    potable_decision = (y_pred >= threshold)\n",
    "    score = (potable_decision == y_val).mean()\n",
    "    scores.append((round(threshold, 3), round(score, 3)))"
   ]
  },
  {
   "cell_type": "code",
   "execution_count": 20,
   "id": "f618929b",
   "metadata": {},
   "outputs": [
    {
     "data": {
      "text/plain": [
       "[(0.0, 0.352),\n",
       " (0.05, 0.352),\n",
       " (0.1, 0.355),\n",
       " (0.15, 0.368),\n",
       " (0.2, 0.404),\n",
       " (0.25, 0.462),\n",
       " (0.3, 0.52),\n",
       " (0.35, 0.57),\n",
       " (0.4, 0.608),\n",
       " (0.45, 0.658),\n",
       " (0.5, 0.673),\n",
       " (0.55, 0.7),\n",
       " (0.6, 0.7),\n",
       " (0.65, 0.693),\n",
       " (0.7, 0.689),\n",
       " (0.75, 0.681),\n",
       " (0.8, 0.668),\n",
       " (0.85, 0.655),\n",
       " (0.9, 0.652),\n",
       " (0.95, 0.648),\n",
       " (1.0, 0.648)]"
      ]
     },
     "execution_count": 20,
     "metadata": {},
     "output_type": "execute_result"
    }
   ],
   "source": [
    "scores"
   ]
  },
  {
   "cell_type": "markdown",
   "id": "a6d54810",
   "metadata": {},
   "source": [
    "0.55 threshold gives us the highest accuracy score of 0.692"
   ]
  },
  {
   "cell_type": "code",
   "execution_count": 21,
   "id": "63b71ee6",
   "metadata": {},
   "outputs": [],
   "source": [
    "threshold = 0.55"
   ]
  },
  {
   "cell_type": "markdown",
   "id": "d87d35f4",
   "metadata": {},
   "source": [
    "### Confusion matrix"
   ]
  },
  {
   "cell_type": "code",
   "execution_count": 22,
   "id": "2e3cc15d",
   "metadata": {},
   "outputs": [],
   "source": [
    "actual_positive = (y_val == 1)\n",
    "actual_negative = (y_val == 0)\n",
    "\n",
    "threshold = 0.5\n",
    "predict_positive = (y_pred >= threshold)\n",
    "predict_negative = (y_pred < threshold)"
   ]
  },
  {
   "cell_type": "code",
   "execution_count": 23,
   "id": "12441e0e",
   "metadata": {},
   "outputs": [
    {
     "data": {
      "text/plain": [
       "82"
      ]
     },
     "execution_count": 23,
     "metadata": {},
     "output_type": "execute_result"
    }
   ],
   "source": [
    "true_positive = (predict_positive & actual_positive).sum()\n",
    "true_positive"
   ]
  },
  {
   "cell_type": "code",
   "execution_count": 24,
   "id": "271e3f91",
   "metadata": {},
   "outputs": [
    {
     "data": {
      "text/plain": [
       "337"
      ]
     },
     "execution_count": 24,
     "metadata": {},
     "output_type": "execute_result"
    }
   ],
   "source": [
    "true_negative = (predict_negative & actual_negative).sum()\n",
    "true_negative"
   ]
  },
  {
   "cell_type": "code",
   "execution_count": 25,
   "id": "91def1a6",
   "metadata": {},
   "outputs": [
    {
     "data": {
      "text/plain": [
       "67"
      ]
     },
     "execution_count": 25,
     "metadata": {},
     "output_type": "execute_result"
    }
   ],
   "source": [
    "false_positive = (predict_positive & actual_negative).sum()\n",
    "false_positive"
   ]
  },
  {
   "cell_type": "code",
   "execution_count": 26,
   "id": "bb36b622",
   "metadata": {},
   "outputs": [
    {
     "data": {
      "text/plain": [
       "137"
      ]
     },
     "execution_count": 26,
     "metadata": {},
     "output_type": "execute_result"
    }
   ],
   "source": [
    "false_negative = (predict_negative & actual_positive).sum()\n",
    "false_negative"
   ]
  },
  {
   "cell_type": "code",
   "execution_count": 27,
   "id": "3e3c0bcb",
   "metadata": {},
   "outputs": [
    {
     "data": {
      "text/plain": [
       "array([[337,  67],\n",
       "       [137,  82]])"
      ]
     },
     "execution_count": 27,
     "metadata": {},
     "output_type": "execute_result"
    }
   ],
   "source": [
    "confusion_matrix = np.array([\n",
    "    [true_negative, false_positive],\n",
    "    [false_negative, true_positive]\n",
    "])\n",
    "confusion_matrix"
   ]
  },
  {
   "cell_type": "markdown",
   "id": "587d925d",
   "metadata": {},
   "source": [
    "### Precision and Recall"
   ]
  },
  {
   "cell_type": "code",
   "execution_count": 28,
   "id": "ffb78bc6",
   "metadata": {},
   "outputs": [
    {
     "data": {
      "text/plain": [
       "0.5503355704697986"
      ]
     },
     "execution_count": 28,
     "metadata": {},
     "output_type": "execute_result"
    }
   ],
   "source": [
    "precision = true_positive / (true_positive + false_positive)\n",
    "precision"
   ]
  },
  {
   "cell_type": "code",
   "execution_count": 29,
   "id": "96f047f4",
   "metadata": {},
   "outputs": [
    {
     "data": {
      "text/plain": [
       "0.3744292237442922"
      ]
     },
     "execution_count": 29,
     "metadata": {},
     "output_type": "execute_result"
    }
   ],
   "source": [
    "recall = true_positive / (true_positive + false_negative)\n",
    "recall"
   ]
  },
  {
   "cell_type": "code",
   "execution_count": 30,
   "id": "609a7fab",
   "metadata": {},
   "outputs": [
    {
     "ename": "SyntaxError",
     "evalue": "invalid syntax (886322215.py, line 1)",
     "output_type": "error",
     "traceback": [
      "\u001b[0;36m  File \u001b[0;32m\"/tmp/ipykernel_238/886322215.py\"\u001b[0;36m, line \u001b[0;32m1\u001b[0m\n\u001b[0;31m    For 68% of the water samples that are potatable we failed to identify them.\u001b[0m\n\u001b[0m        ^\u001b[0m\n\u001b[0;31mSyntaxError\u001b[0m\u001b[0;31m:\u001b[0m invalid syntax\n"
     ]
    }
   ],
   "source": [
    "For 68% of the water samples that are potatable we failed to identify them."
   ]
  },
  {
   "cell_type": "markdown",
   "id": "62085f1d",
   "metadata": {},
   "source": [
    "### f1_score"
   ]
  },
  {
   "cell_type": "code",
   "execution_count": null,
   "id": "f06fad5c",
   "metadata": {},
   "outputs": [],
   "source": [
    "y_preds = pd.Series(y_pred).apply(lambda x: 1 if x >= threshold else 0)"
   ]
  },
  {
   "cell_type": "code",
   "execution_count": null,
   "id": "ce1b7162",
   "metadata": {},
   "outputs": [],
   "source": [
    "f1 = f1_score(y_val, y_preds)\n",
    "f1"
   ]
  },
  {
   "cell_type": "markdown",
   "id": "7af2bcf6",
   "metadata": {},
   "source": [
    "### ROC values"
   ]
  },
  {
   "cell_type": "code",
   "execution_count": null,
   "id": "8170b4cd",
   "metadata": {},
   "outputs": [],
   "source": [
    "fpr, tpr, t = roc_curve(y_val, y_pred)"
   ]
  },
  {
   "cell_type": "code",
   "execution_count": null,
   "id": "b726f98f",
   "metadata": {},
   "outputs": [],
   "source": [
    "plt.figure(figsize=(5,5))\n",
    "\n",
    "plt.xlabel('FPR')\n",
    "plt.ylabel('TPR')\n",
    "\n",
    "plt.title('AUC curve for Water potablity')\n",
    "plt.plot(fpr, tpr, label='Model')"
   ]
  },
  {
   "cell_type": "code",
   "execution_count": null,
   "id": "6aac5ecd",
   "metadata": {},
   "outputs": [],
   "source": [
    "roc_auc_score(y_val, y_pred)"
   ]
  },
  {
   "cell_type": "markdown",
   "id": "2bc0ff3c",
   "metadata": {},
   "source": [
    "### Cross Validation"
   ]
  },
  {
   "cell_type": "code",
   "execution_count": null,
   "id": "a7dd096a",
   "metadata": {},
   "outputs": [],
   "source": [
    "from sklearn.model_selection import KFold"
   ]
  },
  {
   "cell_type": "code",
   "execution_count": null,
   "id": "dec07225",
   "metadata": {},
   "outputs": [],
   "source": [
    "kfold = KFold(n_splits=10, shuffle=True, random_state=1)"
   ]
  },
  {
   "cell_type": "code",
   "execution_count": null,
   "id": "5e205041",
   "metadata": {},
   "outputs": [],
   "source": [
    "train_idx, val_idx = next(kfold.split(df_full_train)) \n",
    "len(train_idx), len(val_idx)"
   ]
  },
  {
   "cell_type": "code",
   "execution_count": null,
   "id": "f5d75626",
   "metadata": {},
   "outputs": [],
   "source": [
    "df_train = df_full_train.iloc[train_idx]\n",
    "df_val = df_full_train.iloc[val_idx]"
   ]
  },
  {
   "cell_type": "code",
   "execution_count": null,
   "id": "13867ba6",
   "metadata": {},
   "outputs": [],
   "source": [
    "scores = []\n",
    "\n",
    "for train_idx, val_idx in kfold.split(df_full_train):\n",
    "    df_train = df_full_train.iloc[train_idx]\n",
    "    df_val = df_full_train.iloc[val_idx]\n",
    "    \n",
    "    y_train = df_train['potability'].values\n",
    "    y_val = df_val['potability'].values\n",
    "    \n",
    "    dv, model = train(df_train, y_train)\n",
    "    y_pred = predict(df_val, dv, model)\n",
    "    \n",
    "    auc = roc_auc_score(y_val, y_pred)\n",
    "    \n",
    "    scores.append(auc)"
   ]
  },
  {
   "cell_type": "code",
   "execution_count": null,
   "id": "cd2f9d49",
   "metadata": {},
   "outputs": [],
   "source": [
    "scores"
   ]
  },
  {
   "cell_type": "code",
   "execution_count": null,
   "id": "a0b5eca0",
   "metadata": {},
   "outputs": [],
   "source": []
  }
 ],
 "metadata": {
  "kernelspec": {
   "display_name": "Python 3 (ipykernel)",
   "language": "python",
   "name": "python3"
  },
  "language_info": {
   "codemirror_mode": {
    "name": "ipython",
    "version": 3
   },
   "file_extension": ".py",
   "mimetype": "text/x-python",
   "name": "python",
   "nbconvert_exporter": "python",
   "pygments_lexer": "ipython3",
   "version": "3.9.6"
  }
 },
 "nbformat": 4,
 "nbformat_minor": 5
}
